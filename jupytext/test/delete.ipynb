{
 "cells": [
  {
   "cell_type": "raw",
   "id": "ba31f818",
   "metadata": {},
   "source": [
    "---\n",
    "title: \"Untitled\"\n",
    "output: html_document\n",
    "---"
   ]
  },
  {
   "cell_type": "code",
   "execution_count": null,
   "id": "5ec320d6",
   "metadata": {
    "name": "setup",
    "tags": [
     "remove_cell"
    ]
   },
   "outputs": [],
   "source": [
    "knitr::opts_chunk$set(echo = TRUE)"
   ]
  },
  {
   "cell_type": "markdown",
   "id": "c776f81e",
   "metadata": {},
   "source": [
    "## R Markdown\n",
    "\n",
    "This is an R Markdown document. Markdown is a simple formatting syntax for authoring HTML, PDF, and MS Word documents. For more details on using R Markdown see <http://rmarkdown.rstudio.com>.\n",
    "\n",
    "When you click the **Knit** button a document will be generated that includes both content as well as the output of any embedded R code chunks within the document. You can embed an R code chunk like this:"
   ]
  },
  {
   "cell_type": "code",
   "execution_count": null,
   "id": "d519984c",
   "metadata": {
    "name": "cars"
   },
   "outputs": [],
   "source": [
    "summary(cars)"
   ]
  },
  {
   "cell_type": "markdown",
   "id": "dffa73e8",
   "metadata": {},
   "source": [
    "## Including Plots\n",
    "\n",
    "You can also embed plots, for example:"
   ]
  },
  {
   "cell_type": "code",
   "execution_count": null,
   "id": "aa429c17",
   "metadata": {
    "name": "pressure",
    "tags": [
     "remove_input"
    ]
   },
   "outputs": [],
   "source": [
    "plot(pressure)"
   ]
  },
  {
   "cell_type": "markdown",
   "id": "43e9fc71",
   "metadata": {},
   "source": [
    "Note that the `echo = FALSE` parameter was added to the code chunk to prevent printing of the R code that generated the plot."
   ]
  }
 ],
 "metadata": {
  "jupytext": {
   "cell_metadata_filter": "tags,name,-all",
   "main_language": "R",
   "notebook_metadata_filter": "-all"
  }
 },
 "nbformat": 4,
 "nbformat_minor": 5
}

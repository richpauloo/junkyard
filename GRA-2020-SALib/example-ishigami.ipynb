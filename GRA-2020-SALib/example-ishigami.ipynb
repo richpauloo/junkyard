{
 "cells": [
  {
   "cell_type": "code",
   "execution_count": 1,
   "metadata": {},
   "outputs": [
    {
     "name": "stdout",
     "output_type": "stream",
     "text": [
      "Parameter S1 S1_conf ST ST_conf\n",
      "x1 0.307975 0.065158 0.560137 0.082705\n",
      "x2 0.447767 0.048605 0.438722 0.033584\n",
      "x3 -0.004255 0.057081 0.242845 0.024178\n",
      "\n",
      "Parameter_1 Parameter_2 S2 S2_conf\n",
      "x1 x2 0.012205 0.089445\n",
      "x1 x3 0.251526 0.106847\n",
      "x2 x3 -0.009954 0.059891\n"
     ]
    }
   ],
   "source": [
    "from SALib.sample import saltelli\n",
    "from SALib.analyze import sobol\n",
    "import numpy as np\n",
    "\n",
    "# function to define model\n",
    "# in this case it's a test function (Ishigami)\n",
    "def run_model(x):\n",
    "  A = 7\n",
    "  B = 0.1\n",
    "\n",
    "  y = np.sin(x[0]) + A * np.sin(x[1])**2 + \\\n",
    "      B * x[2]**4 * np.sin(x[0])\n",
    "\n",
    "  return y\n",
    "\n",
    "problem = {\n",
    "  'num_vars': 3,\n",
    "  'names': ['x1', 'x2', 'x3'],\n",
    "  'bounds': [[-np.pi, np.pi]]*3\n",
    "}\n",
    "\n",
    "# Generate samples\n",
    "param_values = saltelli.sample(problem, 1000)\n",
    "N = len(param_values) # number of parameter samples\n",
    "Y = np.zeros(N)\n",
    "\n",
    "# Run model for each parameter set, save the output in array Y\n",
    "for i in range(N):\n",
    "  Y[i] = run_model(param_values[i])\n",
    "\n",
    "# Perform sensitivity analysis using the model output\n",
    "Si = sobol.analyze(problem, Y, print_to_console=True)\n",
    "# Returns a dictionary with keys 'S1', 'S1_conf', 'ST', and 'ST_conf'\n",
    "# (first and total-order indices with bootstrap confidence intervals)"
   ]
  },
  {
   "cell_type": "code",
   "execution_count": null,
   "metadata": {},
   "outputs": [],
   "source": []
  }
 ],
 "metadata": {
  "kernelspec": {
   "display_name": "Python 3",
   "language": "python",
   "name": "python3"
  },
  "language_info": {
   "codemirror_mode": {
    "name": "ipython",
    "version": 3
   },
   "file_extension": ".py",
   "mimetype": "text/x-python",
   "name": "python",
   "nbconvert_exporter": "python",
   "pygments_lexer": "ipython3",
   "version": "3.7.1"
  }
 },
 "nbformat": 4,
 "nbformat_minor": 2
}
